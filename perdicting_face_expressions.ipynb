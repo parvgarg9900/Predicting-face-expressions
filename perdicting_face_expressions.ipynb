{
  "nbformat": 4,
  "nbformat_minor": 0,
  "metadata": {
    "colab": {
      "provenance": [],
      "authorship_tag": "ABX9TyOEsZEUmAkinGLTeGSJPt+H",
      "include_colab_link": true
    },
    "kernelspec": {
      "name": "python3",
      "display_name": "Python 3"
    },
    "language_info": {
      "name": "python"
    }
  },
  "cells": [
    {
      "cell_type": "markdown",
      "metadata": {
        "id": "view-in-github",
        "colab_type": "text"
      },
      "source": [
        "<a href=\"https://colab.research.google.com/github/parvgarg9900/Predicting-face-expressions/blob/main/perdicting_face_expressions.ipynb\" target=\"_parent\"><img src=\"https://colab.research.google.com/assets/colab-badge.svg\" alt=\"Open In Colab\"/></a>"
      ]
    },
    {
      "cell_type": "code",
      "source": [
        "!pip install landingai &> /dev/null"
      ],
      "metadata": {
        "id": "py5LenWyVOdQ"
      },
      "execution_count": 3,
      "outputs": []
    },
    {
      "cell_type": "code",
      "execution_count": 6,
      "metadata": {
        "colab": {
          "base_uri": "https://localhost:8080/"
        },
        "id": "w1KyjsIJUyGI",
        "outputId": "8c73fd41-697f-48cd-945b-fd2bd5739361"
      },
      "outputs": [
        {
          "output_type": "stream",
          "name": "stdout",
          "text": [
            "[ClassificationPrediction(score=0.34247779846191406, label_name='angry', label_index=0)]\n"
          ]
        }
      ],
      "source": [
        "from PIL import Image\n",
        "from landingai.predict import Predictor\n",
        "# Enter your API Key\n",
        "endpoint_id = \"9cd2ccd4-ed41-4b9f-9bf3-23760651209f\"\n",
        "api_key = \"land_sk_c7pC69prJ88PYvRQVr3ajbxZkrBiMYTUtrxEbPq1bldhugsiOI\"\n",
        "# Load your image\n",
        "image = Image.open(\"/content/Front (2).jpg\")\n",
        "# Run inference\n",
        "predictor = Predictor(endpoint_id, api_key=api_key)\n",
        "predictions = predictor.predict(image)\n",
        "print(predictions)"
      ]
    }
  ]
}